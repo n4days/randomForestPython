{
 "cells": [
  {
   "cell_type": "code",
   "execution_count": 22,
   "id": "8c91eff7-c27b-4e46-8f00-c491cdc8c133",
   "metadata": {
    "editable": true,
    "slideshow": {
     "slide_type": "slide"
    },
    "tags": []
   },
   "outputs": [],
   "source": [
    "# Library Python yang digunakan\n",
    "import pandas as pd\n",
    "from sklearn.model_selection import train_test_split\n",
    "from sklearn.ensemble import RandomForestClassifier\n",
    "from sklearn.metrics import classification_report"
   ]
  },
  {
   "cell_type": "code",
   "execution_count": 23,
   "id": "cbd8fd46-97c9-4463-94e7-25be84043996",
   "metadata": {},
   "outputs": [
    {
     "name": "stdout",
     "output_type": "stream",
     "text": [
      "         NISN                          NAMA  PENGETAHUAN  KETERAMPILAN  \\\n",
      "0    74546407           ADELIA NABILA PUTRI         1695           187   \n",
      "1    78838217                  AHMAD RAIHAN         1725           177   \n",
      "2    79415484  ALFA THIAYARA QANIA MANURUNG         1739           178   \n",
      "3    79819171           ALFAN ZIKRI SARAGIH         1714           195   \n",
      "4    71922306          AMELIA RAISYA ANJANI         1718           189   \n",
      "..        ...                           ...          ...           ...   \n",
      "545  75121870      SITI AZZAHRA BR SIMAMORA         1726           184   \n",
      "546  61944714                SITI NUR AMINA         1712           185   \n",
      "547  73641612                  TASYA NOVITA         1761           177   \n",
      "548  72364393            UMIKALSUM NASUTION         1728           186   \n",
      "549  75603008                   YUNITA SARI         1739           187   \n",
      "\n",
      "     JUMLAH  HASIL  \n",
      "0      1882      0  \n",
      "1      1902      0  \n",
      "2      1917      0  \n",
      "3      1909      1  \n",
      "4      1907      1  \n",
      "..      ...    ...  \n",
      "545    1910      0  \n",
      "546    1897      0  \n",
      "547    1938      0  \n",
      "548    1914      0  \n",
      "549    1926      1  \n",
      "\n",
      "[550 rows x 6 columns]\n"
     ]
    }
   ],
   "source": [
    "# Membaca file CSV\n",
    "data = pd.read_csv('datasetaulia.csv')\n",
    "print(data)"
   ]
  },
  {
   "cell_type": "code",
   "execution_count": 24,
   "id": "49736286-8a20-4ee0-bf38-7c620d1e8029",
   "metadata": {},
   "outputs": [
    {
     "name": "stdout",
     "output_type": "stream",
     "text": [
      "         NISN                          NAMA  PENGETAHUAN  KETERAMPILAN  JUMLAH\n",
      "0    74546407           ADELIA NABILA PUTRI         1695           187    1882\n",
      "1    78838217                  AHMAD RAIHAN         1725           177    1902\n",
      "2    79415484  ALFA THIAYARA QANIA MANURUNG         1739           178    1917\n",
      "3    79819171           ALFAN ZIKRI SARAGIH         1714           195    1909\n",
      "4    71922306          AMELIA RAISYA ANJANI         1718           189    1907\n",
      "..        ...                           ...          ...           ...     ...\n",
      "545  75121870      SITI AZZAHRA BR SIMAMORA         1726           184    1910\n",
      "546  61944714                SITI NUR AMINA         1712           185    1897\n",
      "547  73641612                  TASYA NOVITA         1761           177    1938\n",
      "548  72364393            UMIKALSUM NASUTION         1728           186    1914\n",
      "549  75603008                   YUNITA SARI         1739           187    1926\n",
      "\n",
      "[550 rows x 5 columns]\n",
      "0      0\n",
      "1      0\n",
      "2      0\n",
      "3      1\n",
      "4      1\n",
      "      ..\n",
      "545    0\n",
      "546    0\n",
      "547    0\n",
      "548    0\n",
      "549    1\n",
      "Name: HASIL, Length: 550, dtype: int64\n"
     ]
    }
   ],
   "source": [
    "# Memisahkan kolom (X) dan label/target (y)\n",
    "kolom_yang_akan_dihapus = ['HASIL']\n",
    "X = data.drop(kolom_yang_akan_dihapus, axis=1)\n",
    "y = data['HASIL']\n",
    "print(X)\n",
    "print(y)"
   ]
  },
  {
   "cell_type": "code",
   "execution_count": 25,
   "id": "baceec5c-bd22-4d18-a3a8-2d2f02e11fcb",
   "metadata": {},
   "outputs": [],
   "source": [
    "# Membagi data menjadi data latih dan data uji\n",
    "X_train, X_test, y_train, y_test = train_test_split(\n",
    "    X, y, test_size=0.3, random_state=0\n",
    ")"
   ]
  },
  {
   "cell_type": "code",
   "execution_count": 26,
   "id": "54cf77c1-caff-4416-a736-0eaf5d9fd0c2",
   "metadata": {},
   "outputs": [],
   "source": [
    "# Menghapus kolom yang tidak digunakan\n",
    "X_train_penuh = X_train\n",
    "X_train = X_train.drop(['NISN', 'NAMA'], axis=1)\n",
    "X_test_penuh = X_test\n",
    "X_test = X_test.drop(['NISN', 'NAMA'], axis=1)"
   ]
  },
  {
   "cell_type": "code",
   "execution_count": 27,
   "id": "caef5faa-4f8f-43ea-9541-5f755886a9de",
   "metadata": {},
   "outputs": [
    {
     "data": {
      "text/html": [
       "<style>#sk-container-id-3 {color: black;}#sk-container-id-3 pre{padding: 0;}#sk-container-id-3 div.sk-toggleable {background-color: white;}#sk-container-id-3 label.sk-toggleable__label {cursor: pointer;display: block;width: 100%;margin-bottom: 0;padding: 0.3em;box-sizing: border-box;text-align: center;}#sk-container-id-3 label.sk-toggleable__label-arrow:before {content: \"▸\";float: left;margin-right: 0.25em;color: #696969;}#sk-container-id-3 label.sk-toggleable__label-arrow:hover:before {color: black;}#sk-container-id-3 div.sk-estimator:hover label.sk-toggleable__label-arrow:before {color: black;}#sk-container-id-3 div.sk-toggleable__content {max-height: 0;max-width: 0;overflow: hidden;text-align: left;background-color: #f0f8ff;}#sk-container-id-3 div.sk-toggleable__content pre {margin: 0.2em;color: black;border-radius: 0.25em;background-color: #f0f8ff;}#sk-container-id-3 input.sk-toggleable__control:checked~div.sk-toggleable__content {max-height: 200px;max-width: 100%;overflow: auto;}#sk-container-id-3 input.sk-toggleable__control:checked~label.sk-toggleable__label-arrow:before {content: \"▾\";}#sk-container-id-3 div.sk-estimator input.sk-toggleable__control:checked~label.sk-toggleable__label {background-color: #d4ebff;}#sk-container-id-3 div.sk-label input.sk-toggleable__control:checked~label.sk-toggleable__label {background-color: #d4ebff;}#sk-container-id-3 input.sk-hidden--visually {border: 0;clip: rect(1px 1px 1px 1px);clip: rect(1px, 1px, 1px, 1px);height: 1px;margin: -1px;overflow: hidden;padding: 0;position: absolute;width: 1px;}#sk-container-id-3 div.sk-estimator {font-family: monospace;background-color: #f0f8ff;border: 1px dotted black;border-radius: 0.25em;box-sizing: border-box;margin-bottom: 0.5em;}#sk-container-id-3 div.sk-estimator:hover {background-color: #d4ebff;}#sk-container-id-3 div.sk-parallel-item::after {content: \"\";width: 100%;border-bottom: 1px solid gray;flex-grow: 1;}#sk-container-id-3 div.sk-label:hover label.sk-toggleable__label {background-color: #d4ebff;}#sk-container-id-3 div.sk-serial::before {content: \"\";position: absolute;border-left: 1px solid gray;box-sizing: border-box;top: 0;bottom: 0;left: 50%;z-index: 0;}#sk-container-id-3 div.sk-serial {display: flex;flex-direction: column;align-items: center;background-color: white;padding-right: 0.2em;padding-left: 0.2em;position: relative;}#sk-container-id-3 div.sk-item {position: relative;z-index: 1;}#sk-container-id-3 div.sk-parallel {display: flex;align-items: stretch;justify-content: center;background-color: white;position: relative;}#sk-container-id-3 div.sk-item::before, #sk-container-id-3 div.sk-parallel-item::before {content: \"\";position: absolute;border-left: 1px solid gray;box-sizing: border-box;top: 0;bottom: 0;left: 50%;z-index: -1;}#sk-container-id-3 div.sk-parallel-item {display: flex;flex-direction: column;z-index: 1;position: relative;background-color: white;}#sk-container-id-3 div.sk-parallel-item:first-child::after {align-self: flex-end;width: 50%;}#sk-container-id-3 div.sk-parallel-item:last-child::after {align-self: flex-start;width: 50%;}#sk-container-id-3 div.sk-parallel-item:only-child::after {width: 0;}#sk-container-id-3 div.sk-dashed-wrapped {border: 1px dashed gray;margin: 0 0.4em 0.5em 0.4em;box-sizing: border-box;padding-bottom: 0.4em;background-color: white;}#sk-container-id-3 div.sk-label label {font-family: monospace;font-weight: bold;display: inline-block;line-height: 1.2em;}#sk-container-id-3 div.sk-label-container {text-align: center;}#sk-container-id-3 div.sk-container {/* jupyter's `normalize.less` sets `[hidden] { display: none; }` but bootstrap.min.css set `[hidden] { display: none !important; }` so we also need the `!important` here to be able to override the default hidden behavior on the sphinx rendered scikit-learn.org. See: https://github.com/scikit-learn/scikit-learn/issues/21755 */display: inline-block !important;position: relative;}#sk-container-id-3 div.sk-text-repr-fallback {display: none;}</style><div id=\"sk-container-id-3\" class=\"sk-top-container\"><div class=\"sk-text-repr-fallback\"><pre>RandomForestClassifier(random_state=0)</pre><b>In a Jupyter environment, please rerun this cell to show the HTML representation or trust the notebook. <br />On GitHub, the HTML representation is unable to render, please try loading this page with nbviewer.org.</b></div><div class=\"sk-container\" hidden><div class=\"sk-item\"><div class=\"sk-estimator sk-toggleable\"><input class=\"sk-toggleable__control sk-hidden--visually\" id=\"sk-estimator-id-3\" type=\"checkbox\" checked><label for=\"sk-estimator-id-3\" class=\"sk-toggleable__label sk-toggleable__label-arrow\">RandomForestClassifier</label><div class=\"sk-toggleable__content\"><pre>RandomForestClassifier(random_state=0)</pre></div></div></div></div></div>"
      ],
      "text/plain": [
       "RandomForestClassifier(random_state=0)"
      ]
     },
     "execution_count": 27,
     "metadata": {},
     "output_type": "execute_result"
    }
   ],
   "source": [
    "# Membuat model Random Forest\n",
    "model = RandomForestClassifier(n_estimators=100, random_state=0)\n",
    "model.fit(X_train, y_train)"
   ]
  },
  {
   "cell_type": "code",
   "execution_count": 28,
   "id": "5cfa2b36-c44f-4dd8-a079-bfa420b2ba44",
   "metadata": {},
   "outputs": [
    {
     "name": "stdout",
     "output_type": "stream",
     "text": [
      "[0 1 0 0 1 0 1 1 0 0 0 1 1 0 1 1 0 0 0 0 1 1 1 0 1 0 0 0 0 0 0 0 0 1 0 0 0\n",
      " 0 0 0 1 0 1 0 0 1 0 1 0 1 0 0 1 0 0 0 1 1 1 1 0 0 1 0 1 0 0 0 1 1 1 0 0 0\n",
      " 1 0 1 1 0 0 1 0 0 0 1 0 0 0 1 0 0 0 1 0 1 1 1 1 0 1 0 1 1 0 0 0 1 1 1 0 0\n",
      " 0 0 0 0 1 1 1 1 1 0 0 0 1 0 0 0 0 0 0 1 0 1 1 0 1 1 0 1 0 1 1 1 0 0 0 1 0\n",
      " 0 1 0 1 1 1 0 0 1 0 0 1 1 0 1 0 1]\n"
     ]
    }
   ],
   "source": [
    "# Melakukan prediksi\n",
    "y_pred = model.predict(X_test)\n",
    "print(y_pred)"
   ]
  },
  {
   "cell_type": "code",
   "execution_count": 29,
   "id": "d8cb09ec-a2f0-4641-8623-f29ec902a715",
   "metadata": {},
   "outputs": [
    {
     "name": "stdout",
     "output_type": "stream",
     "text": [
      "              precision    recall  f1-score   support\n",
      "\n",
      "           0       0.94      0.99      0.96        90\n",
      "           1       0.99      0.92      0.95        75\n",
      "\n",
      "    accuracy                           0.96       165\n",
      "   macro avg       0.96      0.95      0.96       165\n",
      "weighted avg       0.96      0.96      0.96       165\n",
      "\n"
     ]
    }
   ],
   "source": [
    "# Melakukan evaluasi\n",
    "print(classification_report(y_test, y_pred))"
   ]
  },
  {
   "cell_type": "code",
   "execution_count": 30,
   "id": "fe156590-2d11-4bf4-b0bb-879edf6e7d3a",
   "metadata": {},
   "outputs": [
    {
     "name": "stdout",
     "output_type": "stream",
     "text": [
      "         NISN                        NAMA  PENGETAHUAN  KETERAMPILAN  JUMLAH  \\\n",
      "85   76442555          FIRJATULLAH RIDWAN         1715           178    1893   \n",
      "441  73400752            AHMAD ADRIANSYAH         1774           188    1962   \n",
      "96   81987165              NADYA AZ ZAHRA         1705           179    1884   \n",
      "172  76599444      QAISHAR SULTHAN SYAFIQ         1717           181    1898   \n",
      "134  76870398                 MUTIA HAFID         1738           193    1931   \n",
      "..        ...                         ...          ...           ...     ...   \n",
      "6    84189622             ANNISA SYAHKIRA         1739           189    1928   \n",
      "8    77849803  AZZAHRA SHOHI BATUSSALIMAH         1725           183    1908   \n",
      "357  77929924          NAZWA RIZKA ARIFIN         1687           195    1882   \n",
      "322  79134026         RAZWA PRATAMA LUBIS         1688           185    1873   \n",
      "436  75228936     SHADA FATHIMAH NASUTION         1723           188    1911   \n",
      "\n",
      "     PREDIKSI  \n",
      "85          0  \n",
      "441         1  \n",
      "96          0  \n",
      "172         0  \n",
      "134         1  \n",
      "..        ...  \n",
      "6           1  \n",
      "8           0  \n",
      "357         1  \n",
      "322         0  \n",
      "436         1  \n",
      "\n",
      "[165 rows x 6 columns]\n"
     ]
    }
   ],
   "source": [
    "# Membuat dataframe dari X_test\n",
    "result_df = pd.DataFrame(X_test_penuh, columns=X.columns)\n",
    "\n",
    "# Menambahkan kolom prediksi (y_pred) ke dalam dataframe\n",
    "result_df['PREDIKSI'] = y_pred\n",
    "\n",
    "# Menampilkan dataframe hasil\n",
    "print(result_df)"
   ]
  },
  {
   "cell_type": "code",
   "execution_count": 31,
   "id": "ddc85a2d-222a-4cae-9ac4-1c8767b11db0",
   "metadata": {},
   "outputs": [],
   "source": [
    "# Menyimpan dataframe result_df ke dalam file Excel (xlsx)\n",
    "result_df.to_excel('hasil_prediksi.xlsx', index=False)"
   ]
  },
  {
   "cell_type": "code",
   "execution_count": null,
   "id": "61a82390-7c3b-44de-a674-27f414b5f848",
   "metadata": {},
   "outputs": [],
   "source": []
  }
 ],
 "metadata": {
  "kernelspec": {
   "display_name": "Python 3 (ipykernel)",
   "language": "python",
   "name": "python3"
  },
  "language_info": {
   "codemirror_mode": {
    "name": "ipython",
    "version": 3
   },
   "file_extension": ".py",
   "mimetype": "text/x-python",
   "name": "python",
   "nbconvert_exporter": "python",
   "pygments_lexer": "ipython3",
   "version": "3.9.1"
  },
  "toc": {
   "base_numbering": 0
  }
 },
 "nbformat": 4,
 "nbformat_minor": 5
}
